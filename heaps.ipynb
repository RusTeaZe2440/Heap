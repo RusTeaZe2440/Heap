{
 "cells": [
  {
   "cell_type": "code",
   "execution_count": 72,
   "metadata": {},
   "outputs": [],
   "source": [
    "class MinHeap:\n",
    "\n",
    "    def __init__(self):\n",
    "        self.heap = []\n",
    "\n",
    "    def __len__(self):\n",
    "        return len(self.heap)\n",
    "\n",
    "    def __str__(self):\n",
    "        return str(self.heap)\n",
    "    \n",
    "    def insert(self, value):\n",
    "        self.heap.append(value)\n",
    "        self.swim(len(self.heap)-1)\n",
    "\n",
    "    def peek_min(self):\n",
    "        if not self.heap:\n",
    "            raise IndexError('Emtpy Heap')\n",
    "        else:\n",
    "            return self.heap[0]\n",
    "        \n",
    "\n",
    "    def extrack_min(self):\n",
    "        if not self.heap:\n",
    "            raise IndexError('Emtpy Heap')\n",
    "\n",
    "        min_element = self.heap[0]\n",
    "        last_element = self.heap.pop()\n",
    "\n",
    "        if self.heap:\n",
    "            self.heap[0] = last_element\n",
    "            self._sink(0)\n",
    "        return min_element\n",
    "\n",
    "    def heapify(self, elements:list[int]) -> list[int]:\n",
    "        self.heap = elements\n",
    "        for i in reversed(range(self.parent(len(self.heap) -1) +1)):\n",
    "            self._sink(i)\n",
    "\n",
    "    def parent(self, index):\n",
    "        return (index - 1) // 2 if index != 0 else None\n",
    "\n",
    "    def left(self, index):\n",
    "        left = (2* index) + 1\n",
    "        return left if left < len(self.heap) else None\n",
    "\n",
    "    def right(self, index):\n",
    "        right = (2* index) + 2\n",
    "        return right if right < len(self.heap) else None\n",
    "\n",
    "    def swim(self, index):\n",
    "        parent_index = self.parent(index)\n",
    "\n",
    "        while parent_index is not None and self.heap[index] < self.heap[parent_index]:\n",
    "            self.heap[index], self.heap[parent_index] = self.heap[parent_index] , self.heap[index]\n",
    "            index = parent_index\n",
    "            parent_index = self.parent(index)\n",
    "\n",
    "    def _sink(self, index):\n",
    "        while True:\n",
    "            smallest = index\n",
    "\n",
    "            left = self.left(index)\n",
    "            right = self.right(index)\n",
    "\n",
    "            if left is not None and self.heap[left] < self.heap[smallest]:\n",
    "                smallest = left\n",
    "\n",
    "            if right is not None and self.heap[right] < self.heap[smallest]:\n",
    "                smallest = right\n",
    "\n",
    "            if smallest == index:\n",
    "                break\n",
    "\n",
    "            self.heap[index],self.heap[smallest] = self.heap[smallest], self.heap[index]\n",
    "            index = smallest \n"
   ]
  },
  {
   "cell_type": "code",
   "execution_count": 73,
   "metadata": {},
   "outputs": [
    {
     "name": "stdout",
     "output_type": "stream",
     "text": [
      "[11, 12, 15, 13, 20, 23, 16, 18, 14]\n"
     ]
    }
   ],
   "source": [
    "min_heap = MinHeap()\n",
    "min_heap.heapify([20,12,23,14,11,15,16,18,13])\n",
    "print(min_heap)"
   ]
  },
  {
   "cell_type": "code",
   "execution_count": 74,
   "metadata": {},
   "outputs": [
    {
     "data": {
      "text/plain": [
       "11"
      ]
     },
     "execution_count": 74,
     "metadata": {},
     "output_type": "execute_result"
    }
   ],
   "source": [
    "min_heap.extrack_min()"
   ]
  },
  {
   "cell_type": "code",
   "execution_count": 75,
   "metadata": {},
   "outputs": [
    {
     "name": "stdout",
     "output_type": "stream",
     "text": [
      "[12, 13, 15, 14, 20, 23, 16, 18]\n"
     ]
    }
   ],
   "source": [
    "print(min_heap)"
   ]
  },
  {
   "cell_type": "code",
   "execution_count": 76,
   "metadata": {},
   "outputs": [
    {
     "name": "stdout",
     "output_type": "stream",
     "text": [
      "[8, 12, 15, 13, 20, 23, 16, 18, 14]\n"
     ]
    }
   ],
   "source": [
    "min_heap.insert(8)\n",
    "print(min_heap)"
   ]
  },
  {
   "cell_type": "code",
   "execution_count": 77,
   "metadata": {},
   "outputs": [
    {
     "name": "stdout",
     "output_type": "stream",
     "text": [
      "[12, 13, 15, 14, 20, 23, 16, 18]\n"
     ]
    }
   ],
   "source": [
    "min_heap.extrack_min()\n",
    "print(min_heap)"
   ]
  },
  {
   "cell_type": "code",
   "execution_count": 123,
   "metadata": {},
   "outputs": [],
   "source": [
    "class MaxHeap:\n",
    "\n",
    "    def __init__(self):\n",
    "        self.heap = []\n",
    "\n",
    "    def __len__(self):\n",
    "        return len(self.heap)\n",
    "\n",
    "    def __str__(self):\n",
    "        return str(self.heap)\n",
    "\n",
    "    def insert(self, value):\n",
    "        self.heap.append(value)\n",
    "        self._sift_up(len(self.heap) - 1)\n",
    "\n",
    "    def peek_max(self):\n",
    "        if not self.heap:\n",
    "            raise IndexError('Empty Heap')\n",
    "        else:\n",
    "            return self.heap[0]\n",
    "\n",
    "    def extract_max(self):\n",
    "        if not self.heap:\n",
    "            raise IndexError('Empty Heap')\n",
    "\n",
    "        max_element = self.heap[0]\n",
    "        last_element = self.heap.pop()\n",
    "\n",
    "        if self.heap:\n",
    "            self.heap[0] = last_element\n",
    "            self._sift_down(0)\n",
    "        return max_element\n",
    "\n",
    "    def _parent(self, index):\n",
    "        return (index - 1) // 2 if index != 0 else None\n",
    "\n",
    "    def _left(self, index):\n",
    "        left = (2 * index) + 1\n",
    "        return left if left > len(self.heap) else None\n",
    "\n",
    "    def _right(self, index):\n",
    "        right = (2 * index) + 2\n",
    "        return right if right > len(self.heap) else None\n",
    "\n",
    "    def heapify(self, elements: list[int]) -> list[int]:\n",
    "        self.heap = list(elements)\n",
    "\n",
    "        for i in reversed(range(self._parent(len(self.heap) - 1) + 1)):\n",
    "            self._sift_down(i)\n",
    "    def _sift_up(self, index):\n",
    "        parent_index = self._parent(index)\n",
    "\n",
    "        while parent_index is not None and self.heap[index] > self.heap[parent_index]:\n",
    "            self.heap[index] , self.heap[parent_index] = self.heap[parent_index], self.heap[index]\n",
    "            index = parent_index\n",
    "            parent_index = self._parent(index)\n",
    "\n",
    "    def _sift_down(self, index):\n",
    "        while True:\n",
    "            largest = index\n",
    "\n",
    "            left = self._left(index)\n",
    "            right = self._right(index)\n",
    "\n",
    "            if left is not None and self.heap[left] > self.heap[largest]:\n",
    "                largest = left\n",
    "            if right is not None and self.heap[right] > self.heap[largest]:\n",
    "                largest = right\n",
    "\n",
    "            if largest == index:\n",
    "                break\n",
    "\n",
    "            self.heap[index], self.heap[largest] = self.heap[largest], self.heap[index]\n",
    "            index = largest\n"
   ]
  },
  {
   "cell_type": "code",
   "execution_count": 124,
   "metadata": {},
   "outputs": [
    {
     "name": "stdout",
     "output_type": "stream",
     "text": [
      "[20, 12, 23, 14, 11, 15, 16, 18, 13]\n"
     ]
    }
   ],
   "source": [
    "max_heap = MaxHeap()\n",
    "max_heap.heapify([20,12,23,14,11,15,16,18,13])\n",
    "print(max_heap)"
   ]
  },
  {
   "cell_type": "code",
   "execution_count": 125,
   "metadata": {},
   "outputs": [
    {
     "data": {
      "text/plain": [
       "20"
      ]
     },
     "execution_count": 125,
     "metadata": {},
     "output_type": "execute_result"
    }
   ],
   "source": [
    "max_heap.extract_max()"
   ]
  },
  {
   "cell_type": "code",
   "execution_count": 126,
   "metadata": {},
   "outputs": [
    {
     "name": "stdout",
     "output_type": "stream",
     "text": [
      "[40, 13, 23, 12, 11, 15, 16, 18, 14]\n"
     ]
    }
   ],
   "source": [
    "max_heap.insert(40)\n",
    "print(max_heap)"
   ]
  },
  {
   "cell_type": "code",
   "execution_count": null,
   "metadata": {},
   "outputs": [],
   "source": []
  }
 ],
 "metadata": {
  "kernelspec": {
   "display_name": "base",
   "language": "python",
   "name": "python3"
  },
  "language_info": {
   "codemirror_mode": {
    "name": "ipython",
    "version": 3
   },
   "file_extension": ".py",
   "mimetype": "text/x-python",
   "name": "python",
   "nbconvert_exporter": "python",
   "pygments_lexer": "ipython3",
   "version": "3.9.13"
  }
 },
 "nbformat": 4,
 "nbformat_minor": 2
}
